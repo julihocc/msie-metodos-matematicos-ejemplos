{
 "cells": [
  {
   "attachments": {
    "{D5D6EA31-769D-492E-B4FB-0E4856A7B688}.png": {
     "image/png": "[encoded data removed]"
    }
   },
   "cell_type": "markdown",
   "metadata": {},
   "source": [
    "![{D5D6EA31-769D-492E-B4FB-0E4856A7B688}.png](attachment:{D5D6EA31-769D-492E-B4FB-0E4856A7B688}.png)"
   ]
  },
  {
   "cell_type": "code",
   "execution_count": 26,
   "metadata": {},
   "outputs": [
    {
     "data": {
      "text/plain": [
       "[ 0  1]\n",
       "[-2 -3]"
      ]
     },
     "execution_count": 26,
     "metadata": {},
     "output_type": "execute_result"
    }
   ],
   "source": [
    "A = matrix([[0,1],[-2,-3]])\n",
    "A "
   ]
  },
  {
   "cell_type": "code",
   "execution_count": 27,
   "metadata": {},
   "outputs": [
    {
     "name": "stdout",
     "output_type": "stream",
     "text": [
      "Eigenvalue:  -1\n",
      "Multiplicity:  1\n",
      "Eigenvector:  (1, -1)\n",
      "\n",
      "Eigenvalue:  -2\n",
      "Multiplicity:  1\n",
      "Eigenvector:  (1, -2)\n",
      "\n"
     ]
    }
   ],
   "source": [
    "eigenvectors = A.eigenvectors_right()\n",
    "\n",
    "for eigenvalues, eigenbasis, multiplicity in eigenvectors:\n",
    "    print(\"Eigenvalue: \", eigenvalues)\n",
    "    print(\"Multiplicity: \", multiplicity)\n",
    "    for eigenvector in eigenbasis:\n",
    "        print(\"Eigenvector: \", eigenvector)\n",
    "    print()"
   ]
  },
  {
   "cell_type": "code",
   "execution_count": 28,
   "metadata": {},
   "outputs": [
    {
     "data": {
      "text/plain": [
       "(-1, (1, -1), 1)"
      ]
     },
     "execution_count": 28,
     "metadata": {},
     "output_type": "execute_result"
    }
   ],
   "source": [
    "lambda1, [v1], multiplicity1 = eigenvectors[0]\n",
    "lambda1, v1, multiplicity1"
   ]
  },
  {
   "cell_type": "code",
   "execution_count": 29,
   "metadata": {},
   "outputs": [
    {
     "data": {
      "text/plain": [
       "(-2, (1, -2), 1)"
      ]
     },
     "execution_count": 29,
     "metadata": {},
     "output_type": "execute_result"
    }
   ],
   "source": [
    "lambda2, [v2], multiplicity2 = eigenvectors[1]\n",
    "lambda2, v2, multiplicity2"
   ]
  },
  {
   "cell_type": "code",
   "execution_count": 30,
   "metadata": {},
   "outputs": [
    {
     "data": {
      "text/plain": [
       "(e^(-t), -e^(-t))"
      ]
     },
     "execution_count": 30,
     "metadata": {},
     "output_type": "execute_result"
    }
   ],
   "source": [
    "t = var('t')\n",
    "phi1 = exp(lambda1*t)*v1\n",
    "phi1"
   ]
  },
  {
   "cell_type": "code",
   "execution_count": 31,
   "metadata": {},
   "outputs": [
    {
     "data": {
      "text/plain": [
       "(e^(-2*t), -2*e^(-2*t))"
      ]
     },
     "execution_count": 31,
     "metadata": {},
     "output_type": "execute_result"
    }
   ],
   "source": [
    "phi2 = exp(lambda2*t)*v2\n",
    "phi2"
   ]
  },
  {
   "cell_type": "code",
   "execution_count": 32,
   "metadata": {},
   "outputs": [
    {
     "data": {
      "text/plain": [
       "(c1*e^(-t) + c2*e^(-2*t), -c1*e^(-t) - 2*c2*e^(-2*t))"
      ]
     },
     "execution_count": 32,
     "metadata": {},
     "output_type": "execute_result"
    }
   ],
   "source": [
    "c1, c2 = var('c1 c2')\n",
    "phi = c1*phi1 + c2*phi2\n",
    "phi"
   ]
  },
  {
   "cell_type": "code",
   "execution_count": 33,
   "metadata": {},
   "outputs": [
    {
     "data": {
      "text/plain": [
       "(0, 0)"
      ]
     },
     "execution_count": 33,
     "metadata": {},
     "output_type": "execute_result"
    }
   ],
   "source": [
    "phi.diff(t) - A*phi "
   ]
  },
  {
   "cell_type": "code",
   "execution_count": null,
   "metadata": {},
   "outputs": [],
   "source": []
  }
 ],
 "metadata": {
  "kernelspec": {
   "display_name": "SageMath 9.5",
   "language": "sage",
   "name": "sagemath"
  },
  "language_info": {
   "codemirror_mode": {
    "name": "ipython",
    "version": 3
   },
   "file_extension": ".py",
   "mimetype": "text/x-python",
   "name": "sage",
   "nbconvert_exporter": "python",
   "pygments_lexer": "ipython3",
   "version": "3.10.12"
  }
 },
 "nbformat": 4,
 "nbformat_minor": 2
}
