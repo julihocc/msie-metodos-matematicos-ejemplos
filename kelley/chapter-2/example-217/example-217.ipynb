{
 "cells": [
  {
   "attachments": {
    "{A3B9DB10-0CF2-41B3-A492-46166530D22E}.png": {
     "image/png": "[encoded data removed]"
    }
   },
   "cell_type": "markdown",
   "metadata": {},
   "source": [
    "![{A3B9DB10-0CF2-41B3-A492-46166530D22E}.png](attachment:{A3B9DB10-0CF2-41B3-A492-46166530D22E}.png)"
   ]
  },
  {
   "cell_type": "code",
   "execution_count": 1,
   "metadata": {},
   "outputs": [
    {
     "data": {
      "text/plain": [
       "[  3   1]\n",
       "[-13  -3]"
      ]
     },
     "execution_count": 1,
     "metadata": {},
     "output_type": "execute_result"
    }
   ],
   "source": [
    "A = matrix( [[3,1],[-13,-3]])\n",
    "A "
   ]
  },
  {
   "cell_type": "code",
   "execution_count": 2,
   "metadata": {},
   "outputs": [
    {
     "data": {
      "text/plain": [
       "[(-2*I, [(1, -3 - 2*I)], 1), (2*I, [(1, -3 + 2*I)], 1)]"
      ]
     },
     "execution_count": 2,
     "metadata": {},
     "output_type": "execute_result"
    }
   ],
   "source": [
    "eigenvectors = A.eigenvectors_right()\n",
    "eigenvectors"
   ]
  },
  {
   "cell_type": "code",
   "execution_count": 3,
   "metadata": {},
   "outputs": [
    {
     "data": {
      "text/plain": [
       "(-2*I, (1, -3 - 2*I), 1)"
      ]
     },
     "execution_count": 3,
     "metadata": {},
     "output_type": "execute_result"
    }
   ],
   "source": [
    "lambda1, [v1], m1 = eigenvectors[0]\n",
    "lambda1, v1, m1"
   ]
  },
  {
   "cell_type": "code",
   "execution_count": 4,
   "metadata": {},
   "outputs": [
    {
     "data": {
      "text/plain": [
       "(2*I, (1, -3 + 2*I), 1)"
      ]
     },
     "execution_count": 4,
     "metadata": {},
     "output_type": "execute_result"
    }
   ],
   "source": [
    "lambda2, [v2], m2 = eigenvectors[1]\n",
    "lambda2, v2, m2"
   ]
  },
  {
   "cell_type": "code",
   "execution_count": 5,
   "metadata": {},
   "outputs": [],
   "source": [
    "t = var('t')\n",
    "assume(t, 'real')"
   ]
  },
  {
   "cell_type": "code",
   "execution_count": 6,
   "metadata": {},
   "outputs": [
    {
     "data": {
      "text/plain": [
       "(e^(-2*I*t), -(3 + 2*I)*e^(-2*I*t))"
      ]
     },
     "execution_count": 6,
     "metadata": {},
     "output_type": "execute_result"
    }
   ],
   "source": [
    "x1 = exp(lambda1*t) * v1\n",
    "x1 "
   ]
  },
  {
   "cell_type": "code",
   "execution_count": 7,
   "metadata": {},
   "outputs": [
    {
     "data": {
      "text/plain": [
       "True"
      ]
     },
     "execution_count": 7,
     "metadata": {},
     "output_type": "execute_result"
    }
   ],
   "source": [
    "diff(x1,t) == A*x1"
   ]
  },
  {
   "cell_type": "code",
   "execution_count": 8,
   "metadata": {},
   "outputs": [
    {
     "data": {
      "text/plain": [
       "(0, 0)"
      ]
     },
     "execution_count": 8,
     "metadata": {},
     "output_type": "execute_result"
    }
   ],
   "source": [
    "diff(x1,t) - A*x1"
   ]
  },
  {
   "cell_type": "code",
   "execution_count": 9,
   "metadata": {},
   "outputs": [],
   "source": [
    "CC = ComplexField()"
   ]
  },
  {
   "cell_type": "code",
   "execution_count": 10,
   "metadata": {},
   "outputs": [
    {
     "data": {
      "text/plain": [
       "e^(-2.00000000000000*I*t)"
      ]
     },
     "execution_count": 10,
     "metadata": {},
     "output_type": "execute_result"
    }
   ],
   "source": [
    "u1 = exp(CC(lambda1)*t) \n",
    "u1"
   ]
  },
  {
   "cell_type": "code",
   "execution_count": 11,
   "metadata": {},
   "outputs": [
    {
     "data": {
      "text/plain": [
       "cos(2.0*t) - I*sin(2.0*t)"
      ]
     },
     "execution_count": 11,
     "metadata": {},
     "output_type": "execute_result"
    }
   ],
   "source": [
    "u1 = exp(CC(lambda1)*t).maxima_methods().demoivre()\n",
    "u1 "
   ]
  },
  {
   "cell_type": "code",
   "execution_count": 12,
   "metadata": {},
   "outputs": [
    {
     "data": {
      "text/plain": [
       "(cos(2.0*t) - I*sin(2.0*t), -(3 + 2*I)*cos(2.0*t) - (2 - 3*I)*sin(2.0*t))"
      ]
     },
     "execution_count": 12,
     "metadata": {},
     "output_type": "execute_result"
    }
   ],
   "source": [
    "x1 = u1 * v1\n",
    "x1 "
   ]
  },
  {
   "cell_type": "code",
   "execution_count": 13,
   "metadata": {},
   "outputs": [],
   "source": [
    "def separate_real_imag(complex_vector):\n",
    "    \"\"\"\n",
    "    Separate the real and imaginary parts of a vector of complex numbers.\n",
    "\n",
    "    Args:\n",
    "    complex_vector: A vector of complex numbers.\n",
    "\n",
    "    Returns:\n",
    "    A tuple containing the real vector and the imaginary vector.\n",
    "    \"\"\"\n",
    "    # Extract the real and imaginary parts for each component\n",
    "    real_parts = [z.real_part() for z in complex_vector]\n",
    "    imag_parts = [z.imag_part() for z in complex_vector]\n",
    "\n",
    "    # Form the real and imaginary vectors\n",
    "    real_vector = vector(real_parts)\n",
    "    imaginary_vector = vector(imag_parts)\n",
    "\n",
    "    return real_vector, imaginary_vector"
   ]
  },
  {
   "cell_type": "code",
   "execution_count": 14,
   "metadata": {},
   "outputs": [
    {
     "data": {
      "text/plain": [
       "((cos(2.0*t), -3*cos(2.0*t) - 2*sin(2.0*t)),\n",
       " (-sin(2.0*t), -2*cos(2.0*t) + 3*sin(2.0*t)))"
      ]
     },
     "execution_count": 14,
     "metadata": {},
     "output_type": "execute_result"
    }
   ],
   "source": [
    "x11, x12 = separate_real_imag(x1)\n",
    "x11, x12"
   ]
  },
  {
   "cell_type": "code",
   "execution_count": 15,
   "metadata": {},
   "outputs": [
    {
     "data": {
      "text/plain": [
       "(c1*cos(2.0*t) - c2*sin(2.0*t), -c1*(3*cos(2.0*t) + 2*sin(2.0*t)) - c2*(2*cos(2.0*t) - 3*sin(2.0*t)))"
      ]
     },
     "execution_count": 15,
     "metadata": {},
     "output_type": "execute_result"
    }
   ],
   "source": [
    "c1, c2 = var('c1 c2')\n",
    "assume(c1, 'real')\n",
    "assume(c2, 'real')\n",
    "\n",
    "x = c1*x11 + c2*x12\n",
    "x "
   ]
  },
  {
   "cell_type": "code",
   "execution_count": 16,
   "metadata": {},
   "outputs": [
    {
     "data": {
      "text/plain": [
       "True"
      ]
     },
     "execution_count": 16,
     "metadata": {},
     "output_type": "execute_result"
    }
   ],
   "source": [
    "x.diff(t) == A*x"
   ]
  },
  {
   "cell_type": "code",
   "execution_count": null,
   "metadata": {},
   "outputs": [],
   "source": []
  }
 ],
 "metadata": {
  "kernelspec": {
   "display_name": "SageMath 9.5",
   "language": "sage",
   "name": "sagemath"
  },
  "language_info": {
   "codemirror_mode": {
    "name": "ipython",
    "version": 3
   },
   "file_extension": ".py",
   "mimetype": "text/x-python",
   "name": "sage",
   "nbconvert_exporter": "python",
   "pygments_lexer": "ipython3",
   "version": "3.10.12"
  }
 },
 "nbformat": 4,
 "nbformat_minor": 2
}
