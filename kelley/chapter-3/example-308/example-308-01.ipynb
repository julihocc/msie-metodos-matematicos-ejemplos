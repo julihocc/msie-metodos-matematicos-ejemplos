{
 "cells": [
  {
   "cell_type": "code",
   "execution_count": 57,
   "metadata": {},
   "outputs": [
    {
     "name": "stdout",
     "output_type": "stream",
     "text": [
      "diff(u(t), t) == v(t)\n",
      "diff(v(t), t) == -u(t)\n"
     ]
    },
    {
     "data": {
      "text/plain": [
       "[u(t) == a*cos(t) + b*sin(t), v(t) == b*cos(t) - a*sin(t)]"
      ]
     },
     "execution_count": 57,
     "metadata": {},
     "output_type": "execute_result"
    }
   ],
   "source": [
    " t,a,b,x,y = var('t, a, b, u, v')\n",
    "u = function('u')(t)\n",
    "v = function('v')(t)\n",
    "\n",
    "assume(t, 'real') \n",
    "\n",
    "f(x,y) = y\n",
    "g(x,y) = -x \n",
    "\n",
    "eq1 = diff(u, t) == f(u,v); print(eq1)\n",
    "eq2 = diff(v, t) == g(u,v); print(eq2)\n",
    " \n",
    "solution = desolve_system([eq1, eq2], [u, v], ics=[0 ,a,b])\n",
    "\n",
    "# Display the solution\n",
    "solution"
   ]
  },
  {
   "cell_type": "code",
   "execution_count": 58,
   "metadata": {},
   "outputs": [
    {
     "name": "stdout",
     "output_type": "stream",
     "text": [
      "diff(h(x), x) == -x/h(x)\n"
     ]
    }
   ],
   "source": [
    "h = function('h')(x)\n",
    "\n",
    "ode = diff(h, x) == g(x,h)/f(x,h)\n",
    "print(ode)\n",
    "\n"
   ]
  },
  {
   "cell_type": "code",
   "execution_count": 59,
   "metadata": {},
   "outputs": [
    {
     "data": {
      "text/plain": [
       "-1/2*y^2 == 1/2*x^2 + _C"
      ]
     },
     "execution_count": 59,
     "metadata": {},
     "output_type": "execute_result"
    }
   ],
   "source": [
    "implicit_solution = desolve(ode, h, ivar=x)\n",
    "implicit_solution.subs({h: y})\n"
   ]
  }
 ],
 "metadata": {
  "kernelspec": {
   "display_name": "SageMath 9.5",
   "language": "sage",
   "name": "sagemath"
  },
  "language_info": {
   "codemirror_mode": {
    "name": "ipython",
    "version": 3
   },
   "file_extension": ".py",
   "mimetype": "text/x-python",
   "name": "sage",
   "nbconvert_exporter": "python",
   "pygments_lexer": "ipython3",
   "version": "3.10.12"
  }
 },
 "nbformat": 4,
 "nbformat_minor": 2
}
