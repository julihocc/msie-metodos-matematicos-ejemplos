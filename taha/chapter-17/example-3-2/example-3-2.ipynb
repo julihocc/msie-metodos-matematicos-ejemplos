{
 "cells": [
  {
   "cell_type": "markdown",
   "metadata": {},
   "source": [
    "Determine the periodic states of the following Markov chain:\n",
    "```math\n",
    "\\begin{bmatrix}\n",
    "0 & 0.6 & 0.4 \\\\\n",
    "0 & 1 & 0 \\\\\n",
    "0.6 & 0.4 & 0\n",
    "\\end{bmatrix}\n",
    "```"
   ]
  },
  {
   "cell_type": "markdown",
   "metadata": {},
   "source": [
    "To determine the periodic states in the matrix, let’s examine each state individually for its period by analyzing possible paths from each state back to itself:\n",
    "\n",
    "```mermaid\n",
    "graph TD\n",
    "    A[State 1] -->|0.6| B[State 2]\n",
    "    A -->|0.4| C[State 3]\n",
    "    B -->|1| B\n",
    "    C -->|0.6| A\n",
    "    C -->|0.4| B\n",
    "```"
   ]
  },
  {
   "cell_type": "markdown",
   "metadata": {},
   "source": [
    "\n",
    "\n",
    "#### Checking Each State\n",
    "\n",
    "1. **State 1**:\n",
    "   - The probability $P(1 \\to 1) = 0$ directly, but we can reach state 1 from state 3, which transitions to state 1 with probability 0.6.\n",
    "   - Possible paths: $1 \\to 3 \\to 1$ in two steps.\n",
    "   - Thus, the period for state 1 is 2, as it returns to itself every 2 steps.\n",
    "\n",
    "2. **State 2**:\n",
    "   - $P(2 \\to 2) = 1$, meaning it can remain in state 2 indefinitely with no need to transition.\n",
    "   - This self-loop makes state 2 *aperiodic* (period = 1).\n",
    "\n",
    "3. **State 3**:\n",
    "   - $P(3 \\to 3) = 0$ directly, but state 3 can return to itself through the path: $3 \\to 1 \\to 3$, in two steps.\n",
    "   - Therefore, the period for state 3 is also 2, as it only returns to itself in even steps.\n",
    "\n",
    "#### Conclusion\n",
    "The periodic states are:\n",
    "- **State 1** with period 2\n",
    "- **State 3** with period 2\n",
    "  \n",
    "State 2 is aperiodic (period 1). \n",
    "\n",
    "Thus, states 1 and 3 are periodic with period 2, while state 2 is aperiodic. "
   ]
  },
  {
   "cell_type": "code",
   "execution_count": 30,
   "metadata": {
    "vscode": {
     "languageId": "sage"
    }
   },
   "outputs": [
    {
     "data": {
      "text/plain": [
       "array([[0., 1., 1.],\n",
       "       [0., 1., 0.],\n",
       "       [1., 1., 0.]])"
      ]
     },
     "execution_count": 30,
     "metadata": {},
     "output_type": "execute_result"
    }
   ],
   "source": [
    "import numpy\n",
    "M = matrix([[0,.6,.4], [0,1,0], [.6, .4, 0]])\n",
    "M = numpy.ceil(M) \n",
    "M \n"
   ]
  },
  {
   "cell_type": "code",
   "execution_count": 31,
   "metadata": {
    "vscode": {
     "languageId": "sage"
    }
   },
   "outputs": [
    {
     "data": {
      "text/plain": [
       "[0 1 1]\n",
       "[0 1 0]\n",
       "[1 1 0]"
      ]
     },
     "execution_count": 31,
     "metadata": {},
     "output_type": "execute_result"
    }
   ],
   "source": [
    "P = Matrix(ZZ, M)\n",
    "P "
   ]
  },
  {
   "cell_type": "code",
   "execution_count": 32,
   "metadata": {
    "vscode": {
     "languageId": "sage"
    }
   },
   "outputs": [
    {
     "data": {
      "text/plain": [
       "[1 2 0]\n",
       "[0 1 0]\n",
       "[0 2 1]"
      ]
     },
     "execution_count": 32,
     "metadata": {},
     "output_type": "execute_result"
    }
   ],
   "source": [
    "P^2"
   ]
  },
  {
   "cell_type": "code",
   "execution_count": 33,
   "metadata": {
    "vscode": {
     "languageId": "sage"
    }
   },
   "outputs": [
    {
     "data": {
      "text/plain": [
       "[0 3 1]\n",
       "[0 1 0]\n",
       "[1 3 0]"
      ]
     },
     "execution_count": 33,
     "metadata": {},
     "output_type": "execute_result"
    }
   ],
   "source": [
    "P^3"
   ]
  },
  {
   "cell_type": "code",
   "execution_count": 34,
   "metadata": {
    "vscode": {
     "languageId": "sage"
    }
   },
   "outputs": [
    {
     "data": {
      "text/plain": [
       "[1 4 0]\n",
       "[0 1 0]\n",
       "[0 4 1]"
      ]
     },
     "execution_count": 34,
     "metadata": {},
     "output_type": "execute_result"
    }
   ],
   "source": [
    "P^4 "
   ]
  },
  {
   "cell_type": "code",
   "execution_count": 35,
   "metadata": {
    "vscode": {
     "languageId": "sage"
    }
   },
   "outputs": [
    {
     "data": {
      "text/plain": [
       "[0 5 1]\n",
       "[0 1 0]\n",
       "[1 5 0]"
      ]
     },
     "execution_count": 35,
     "metadata": {},
     "output_type": "execute_result"
    }
   ],
   "source": [
    "P^5 "
   ]
  },
  {
   "cell_type": "code",
   "execution_count": null,
   "metadata": {
    "vscode": {
     "languageId": "sage"
    }
   },
   "outputs": [],
   "source": []
  }
 ],
 "metadata": {
  "kernelspec": {
   "display_name": "SageMath 9.5",
   "language": "sage",
   "name": "sagemath"
  },
  "language_info": {
   "codemirror_mode": {
    "name": "ipython",
    "version": 3
   },
   "file_extension": ".py",
   "mimetype": "text/x-python",
   "name": "python",
   "nbconvert_exporter": "python",
   "pygments_lexer": "ipython3",
   "version": "3.10.12"
  }
 },
 "nbformat": 4,
 "nbformat_minor": 2
}
