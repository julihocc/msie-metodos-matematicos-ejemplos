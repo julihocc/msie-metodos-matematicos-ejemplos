{
 "cells": [
  {
   "cell_type": "markdown",
   "metadata": {},
   "source": [
    "Consider the following transition matrix for a Markov chain with 3 states:\n",
    "```math \n",
    "P = \\begin{pmatrix}\n",
    "0.2 & 0.5 & 0.3 \\\\\n",
    "0 & 0.5 & 0.5 \\\\\n",
    "0 & 0 & 1\n",
    "\\end{pmatrix}\n",
    "```\n",
    "\n",
    "The corresponding graph is shown below:"
   ]
  },
  {
   "cell_type": "markdown",
   "metadata": {},
   "source": [
    "```mermaid\n",
    "graph TD\n",
    "    1 -->|0.2| 1\n",
    "    1 -->|0.5| 2\n",
    "    1 -->|0.3| 3\n",
    "    2 -->|0.5| 2\n",
    "    2 -->|0.5| 3\n",
    "    3 -->|1| 3\n",
    "```"
   ]
  },
  {
   "cell_type": "markdown",
   "metadata": {},
   "source": [
    "In Markov chains, *absorbing* and *transient* states describe types of behaviors of states within the chain:\n",
    "\n",
    "1. **Absorbing State**: This is a state in the Markov chain from which, once entered, it cannot transition to any other state. Formally, if a state \\( i \\) is absorbing, then \\( P(i \\to i) = 1 \\) (the probability of staying in state \\( i \\) is 1), and there is no probability of transitioning to any other state. In the given Markov chain, state 3 is an absorbing state since it transitions to itself with probability 1.\n",
    "\n",
    "2. **Transient State**: A transient state is one that, starting from it, there is a nonzero probability that the process will eventually leave this state and not return. This means that the probability of eventually reaching an absorbing state or another type of state is 1. In the provided Markov chain, states 1 and 2 are transient states. For example:\n",
    "   - State 1 transitions to itself with a probability of 0.2, to state 2 with 0.5, and to state 3 with 0.3. Since there is a chance of reaching state 3 (the absorbing state), it is classified as transient.\n",
    "   - Similarly, state 2 transitions to itself with a probability of 0.5 and to state 3 with a probability of 0.5, meaning it can eventually reach state 3.\n",
    "\n",
    "In summary, an absorbing state like state 3 in this chain is a \"terminal\" state, while transient states like states 1 and 2 are intermediate stages that the process can pass through but will ultimately leave as it progresses towards absorption."
   ]
  },
  {
   "cell_type": "code",
   "execution_count": 3,
   "metadata": {
    "vscode": {
     "languageId": "sage"
    }
   },
   "outputs": [
    {
     "data": {
      "text/plain": [
       "[0.200000000000000 0.500000000000000 0.300000000000000]\n",
       "[0.000000000000000 0.500000000000000 0.500000000000000]\n",
       "[0.000000000000000 0.000000000000000  1.00000000000000]"
      ]
     },
     "execution_count": 3,
     "metadata": {},
     "output_type": "execute_result"
    }
   ],
   "source": [
    "P = Matrix([[.2, .5, .3], [0, .5, .5], [0,0,1]])\n",
    "P "
   ]
  },
  {
   "cell_type": "code",
   "execution_count": 4,
   "metadata": {
    "vscode": {
     "languageId": "sage"
    }
   },
   "outputs": [
    {
     "data": {
      "text/plain": [
       "[1.26765060022824e-70 1.31476817536835e-30     1.00000000000000]\n",
       "[   0.000000000000000 7.88860905221012e-31     1.00000000000000]\n",
       "[   0.000000000000000    0.000000000000000     1.00000000000000]"
      ]
     },
     "execution_count": 4,
     "metadata": {},
     "output_type": "execute_result"
    }
   ],
   "source": [
    "P**100"
   ]
  },
  {
   "cell_type": "code",
   "execution_count": null,
   "metadata": {
    "vscode": {
     "languageId": "sage"
    }
   },
   "outputs": [],
   "source": []
  }
 ],
 "metadata": {
  "kernelspec": {
   "display_name": "SageMath 9.5",
   "language": "sage",
   "name": "sagemath"
  },
  "language_info": {
   "codemirror_mode": {
    "name": "ipython",
    "version": 3
   },
   "file_extension": ".py",
   "mimetype": "text/x-python",
   "name": "python",
   "nbconvert_exporter": "python",
   "pygments_lexer": "ipython3",
   "version": "3.10.12"
  }
 },
 "nbformat": 4,
 "nbformat_minor": 2
}
