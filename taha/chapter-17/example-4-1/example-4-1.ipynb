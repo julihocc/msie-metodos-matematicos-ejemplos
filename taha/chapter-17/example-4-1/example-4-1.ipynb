{
 "cells": [
  {
   "cell_type": "markdown",
   "metadata": {},
   "source": [
    "An **ergodic Markov chain** is a type of Markov chain in which all states are both **recurrent** and **aperiodic**. In an ergodic chain, the chain is **irreducible**, meaning each state is accessible from every other state, allowing it to eventually reach any part of its state space from any initial position. Additionally, since it is aperiodic, the chain lacks a fixed cycle of visits, ensuring that transitions do not occur at regular intervals or periods. This condition guarantees convergence to a unique **steady-state distribution** that is independent of the initial state distribution.\n",
    "\n",
    "In practical terms, ergodicity implies that, over time, the Markov chain reaches a stable long-term distribution of states. This **steady-state distribution** allows us to predict the proportion of time the process will spend in each state as the number of transitions approaches infinity."
   ]
  },
  {
   "cell_type": "markdown",
   "metadata": {},
   "source": [
    "For a Markov chain to be **ergodic**, it must satisfy these key conditions:\n",
    "\n",
    "1. **Irreducibility**: The Markov chain must be irreducible, meaning it is possible to reach any state from any other state within the chain (though it may require multiple steps). This ensures that no state is isolated, allowing all states to be part of a single communicating class.\n",
    "\n",
    "2. **Aperiodicity**: The chain must be aperiodic, meaning that there are no fixed intervals at which states are revisited. Formally, the greatest common divisor of the number of steps required to return to any state must be one. This prevents the chain from cycling between states in regular intervals.\n",
    "\n",
    "3. **Positive Recurrence**: Every state in the chain must be positively recurrent, meaning that the expected time to return to each state is finite. This ensures that the chain does not wander indefinitely without revisiting states.\n",
    "\n",
    "When these conditions are met, the Markov chain has a unique **steady-state distribution** (or stationary distribution) that the process will converge to regardless of the initial state. This convergence implies that, over the long run, the proportion of time spent in each state stabilizes. "
   ]
  },
  {
   "cell_type": "markdown",
   "metadata": {},
   "source": [
    "To determine if a matrix represents an ergodic Markov chain, follow these steps:\n",
    "\n",
    "1. **Check for Irreducibility**:\n",
    "   - Verify that every state is reachable from every other state. In terms of the matrix $P$, this means that for any pair of states $i$ and $j$, there exists some integer $n$ such that $(P^n)_{ij} > 0$. This indicates that state $i$ can eventually reach state $j$ with non-zero probability.\n",
    "   - Practically, this can be checked by confirming that the matrix $P$ raised to a sufficiently large power (e.g., $P^n$, where $n$ is the number of states) has all positive entries in at least one power. If this is true, the chain is irreducible.\n",
    "\n",
    "2. **Check for Aperiodicity**:\n",
    "   - A chain is aperiodic if each state does not have a fixed cycle length. This condition holds if there exists an integer $n$ such that for all states $i$, $(P^n)_{ii} > 0$, meaning that every state has a non-zero probability of returning to itself in a variety of step counts.\n",
    "   - To test this, look for the smallest $n$ such that all diagonal entries in $P^n$ are positive. If such an $n$ exists, the chain is aperiodic.\n",
    "\n",
    "3. **Verify Positive Recurrence**:\n",
    "   - Positive recurrence is generally assumed for finite-state irreducible Markov chains, as all states will inherently be recurrent and have finite mean return times. For finite-state chains, if steps 1 and 2 are satisfied, positive recurrence is usually guaranteed.\n",
    "\n",
    "If all these conditions are met, the matrix $P$ represents an ergodic Markov chain, meaning it has a unique steady-state distribution that the chain will converge to from any initial distribution.\n"
   ]
  },
  {
   "cell_type": "code",
   "execution_count": 32,
   "metadata": {
    "vscode": {
     "languageId": "sage"
    }
   },
   "outputs": [
    {
     "data": {
      "text/plain": [
       "[ 3/10   3/5  1/10]\n",
       "[ 1/10   3/5  3/10]\n",
       "[ 1/20   2/5 11/20]"
      ]
     },
     "execution_count": 32,
     "metadata": {},
     "output_type": "execute_result"
    }
   ],
   "source": [
    "P = matrix(QQ, [[.3, .6, .1], [.1, .6, .3], [.05, .4, .55]])\n",
    "P"
   ]
  },
  {
   "cell_type": "code",
   "execution_count": 33,
   "metadata": {
    "vscode": {
     "languageId": "sage"
    }
   },
   "outputs": [
    {
     "data": {
      "text/plain": [
       "True"
      ]
     },
     "execution_count": 33,
     "metadata": {},
     "output_type": "execute_result"
    }
   ],
   "source": [
    "# Check if each row sums to 1\n",
    "all(sum(row) == 1 for row in P.rows())\n"
   ]
  },
  {
   "cell_type": "code",
   "execution_count": 34,
   "metadata": {
    "vscode": {
     "languageId": "sage"
    }
   },
   "outputs": [
    {
     "data": {
      "text/plain": [
       "True"
      ]
     },
     "execution_count": 34,
     "metadata": {},
     "output_type": "execute_result"
    }
   ],
   "source": [
    "# Compute a high power of P (e.g., P^10) and check for positive entries\n",
    "P_power = P^10\n",
    "all(P_power[i, j] > 0 for i in range(P.nrows()) for j in range(P.ncols()))\n"
   ]
  },
  {
   "cell_type": "code",
   "execution_count": 35,
   "metadata": {
    "vscode": {
     "languageId": "sage"
    }
   },
   "outputs": [
    {
     "data": {
      "text/plain": [
       "True"
      ]
     },
     "execution_count": 35,
     "metadata": {},
     "output_type": "execute_result"
    }
   ],
   "source": [
    "# Check if any diagonal entry is positive\n",
    "any(P[i, i] > 0 for i in range(P.nrows()))\n"
   ]
  },
  {
   "cell_type": "code",
   "execution_count": 36,
   "metadata": {
    "vscode": {
     "languageId": "sage"
    }
   },
   "outputs": [
    {
     "data": {
      "text/plain": [
       "(1,\n",
       " [\n",
       " (1, 31/6, 11/3)\n",
       " ],\n",
       " 1)"
      ]
     },
     "execution_count": 36,
     "metadata": {},
     "output_type": "execute_result"
    }
   ],
   "source": [
    "# Find the left eigenvector associated with eigenvalue 1\n",
    "stationary = P.left_eigenvectors()[0]\n",
    "stationary"
   ]
  },
  {
   "cell_type": "code",
   "execution_count": 37,
   "metadata": {
    "vscode": {
     "languageId": "sage"
    }
   },
   "outputs": [
    {
     "name": "stdout",
     "output_type": "stream",
     "text": [
      "Eigenvalue: 1, Multiplicity: 1, Eigenbasis: [\n",
      "(1, 31/6, 11/3)\n",
      "]\n",
      "Eigenvalue: 0.12192235935955848?, Multiplicity: 1, Eigenbasis: [(1, -2.561552812808830?, 1.561552812808831?)]\n",
      "Eigenvalue: 0.3280776406404415?, Multiplicity: 1, Eigenbasis: [(1, 1.561552812808831?, -2.561552812808830?)]\n"
     ]
    }
   ],
   "source": [
    "eigenvectors = P.left_eigenvectors()\n",
    "\n",
    "for eigenvalue, eigenbasis, multiplicity in eigenvectors:\n",
    "    print(\n",
    "        f\"Eigenvalue: {eigenvalue}, Multiplicity: {multiplicity}, Eigenbasis: {eigenbasis}\"\n",
    "    )"
   ]
  },
  {
   "cell_type": "code",
   "execution_count": 38,
   "metadata": {
    "vscode": {
     "languageId": "sage"
    }
   },
   "outputs": [
    {
     "data": {
      "text/plain": [
       "(1, 31/6, 11/3)"
      ]
     },
     "execution_count": 38,
     "metadata": {},
     "output_type": "execute_result"
    }
   ],
   "source": [
    "# stationary_distribution_unnormalized \n",
    "_PI = eigenvectors[0][1][0]\n",
    "_PI\n"
   ]
  },
  {
   "cell_type": "code",
   "execution_count": 39,
   "metadata": {
    "vscode": {
     "languageId": "sage"
    }
   },
   "outputs": [
    {
     "data": {
      "text/plain": [
       "(0.101694915254237, 0.525423728813559, 0.372881355932203)"
      ]
     },
     "execution_count": 39,
     "metadata": {},
     "output_type": "execute_result"
    }
   ],
   "source": [
    "PI = _PI / sum(_PI)\n",
    "PI.n()"
   ]
  },
  {
   "cell_type": "markdown",
   "metadata": {},
   "source": [
    "The **mean first return time** (also known as the **expected return time**) is a fundamental concept in Markov chain theory that quantifies how long it takes, on average, for a process to return to a particular state for the first time after leaving it.\n",
    "\n",
    "### Definition and Calculation\n",
    "\n",
    "For a state \\( i \\) in a Markov chain with transition matrix \\( P \\), the **mean first return time**, often denoted by \\( m_{ii} \\), is the expected number of steps required for the chain to return to state \\( i \\) after initially being in \\( i \\). Mathematically, if \\( T_i \\) represents the random variable for the number of steps to return to \\( i \\) starting from \\( i \\), then \\( m_{ii} = \\mathbb{E}[T_i] \\), where:\n",
    "- \\( T_i = \\min\\{ n > 0 : X_n = i | X_0 = i \\} \\),\n",
    "- \\( X_n \\) is the state of the Markov chain at time \\( n \\).\n",
    "\n",
    "The mean first return time \\( m_{ii} \\) can be interpreted as:\n",
    "\\[\n",
    "m_{ii} = \\frac{1}{\\pi_i},\n",
    "\\]\n",
    "where \\( \\pi_i \\) is the stationary probability of state \\( i \\) (assuming the Markov chain is ergodic and has a stationary distribution). This relationship shows that the mean first return time is inversely related to how \"often\" the state \\( i \\) is visited in the long run.\n",
    "\n",
    "### Mean First Passage Times\n",
    "\n",
    "More generally, the **mean first passage time** \\( m_{ij} \\) is the expected time it takes to reach state \\( j \\) for the first time when starting from state \\( i \\). It is particularly useful for understanding how a Markov chain moves between states.\n",
    "\n",
    "### Calculation Example with Markov Chains\n",
    "\n",
    "For a Markov chain with finite states, the mean first return times can be calculated as follows:\n",
    "\n",
    "1. **Stationary Distribution**: Find the stationary distribution vector \\( \\pi \\), which is the solution to \\( \\pi P = \\pi \\) with \\( \\sum \\pi_i = 1 \\).\n",
    "2. **Return Time**: For each state \\( i \\), compute \\( m_{ii} = \\frac{1}{\\pi_i} \\).\n",
    "\n",
    "For an ergodic chain (irreducible and aperiodic), this approach guarantees that each \\( m_{ii} \\) will be finite, and it provides insight into how often the chain is expected to revisit each state."
   ]
  },
  {
   "cell_type": "code",
   "execution_count": 40,
   "metadata": {
    "vscode": {
     "languageId": "sage"
    }
   },
   "outputs": [],
   "source": [
    "eigenvectors = P.left_eigenvectors()\n",
    "for eigenvalue, eigenvectors, multiplicity in eigenvectors:\n",
    "    if eigenvalue == 1:\n",
    "        stationary_vector = eigenvectors[0] / sum(eigenvectors[0])  # Normalize\n",
    "        break\n"
   ]
  },
  {
   "cell_type": "code",
   "execution_count": 41,
   "metadata": {
    "vscode": {
     "languageId": "sage"
    }
   },
   "outputs": [
    {
     "data": {
      "text/plain": [
       "[9.83333333333333, 1.90322580645161, 2.68181818181818]"
      ]
     },
     "execution_count": 41,
     "metadata": {},
     "output_type": "execute_result"
    }
   ],
   "source": [
    "mean_first_return_times = [1 / stationary_vector[i].n() for i in range(len(stationary_vector))]\n",
    "mean_first_return_times"
   ]
  },
  {
   "cell_type": "markdown",
   "metadata": {},
   "source": [
    "This means that, on the average, it will take approximately 10 gardening seasons for the soil to\n",
    "return to a good state, 2 seasons to return to a fair state, and 3 seasons to return to a poor state.\n",
    "These results point to a less promising outlook for the soil condition under the proposed use of\n",
    "fertilizers."
   ]
  },
  {
   "cell_type": "markdown",
   "metadata": {
    "vscode": {
     "languageId": "sage"
    }
   },
   "source": [
    "A more aggressive program should improve the picture. For example, consider the  following transition matrix in which the probabilities of moving to a good state are higher than\n",
    "in the previous matrix:\n",
    "\n",
    "```sage\n",
    "P = matrix(QQ, [[.35, .6, .05], [.3, .6, .1], [.25, .4, .35])\n",
    "```\n",
    "\n",
    "Repeate the analysis for this matrix."
   ]
  },
  {
   "cell_type": "code",
   "execution_count": null,
   "metadata": {
    "vscode": {
     "languageId": "sage"
    }
   },
   "outputs": [],
   "source": []
  }
 ],
 "metadata": {
  "kernelspec": {
   "display_name": "SageMath 9.5",
   "language": "sage",
   "name": "sagemath"
  },
  "language_info": {
   "codemirror_mode": {
    "name": "ipython",
    "version": 3
   },
   "file_extension": ".py",
   "mimetype": "text/x-python",
   "name": "python",
   "nbconvert_exporter": "python",
   "pygments_lexer": "ipython3",
   "version": "3.10.12"
  }
 },
 "nbformat": 4,
 "nbformat_minor": 2
}
